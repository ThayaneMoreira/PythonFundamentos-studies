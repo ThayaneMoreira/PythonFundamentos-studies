{
 "cells": [
  {
   "cell_type": "code",
   "execution_count": null,
   "metadata": {},
   "outputs": [],
   "source": [
    "#Cabeçalho\n",
    "print('\\n********** Python Calculator **********')"
   ]
  },
  {
   "cell_type": "code",
   "execution_count": null,
   "metadata": {},
   "outputs": [],
   "source": [
    "# Funções\n",
    "def add(x, y):\n",
    "\treturn x + y\n",
    "\n",
    "def subtract(x, y):\n",
    "\treturn x - y\n",
    "\n",
    "def multiply(x, y):\n",
    "\treturn x * y\n",
    "\n",
    "def divide(x, y):\n",
    "\treturn x / y"
   ]
  },
  {
   "cell_type": "code",
   "execution_count": null,
   "metadata": {},
   "outputs": [],
   "source": [
    "#Opções da calculadora\n",
    "print('\\n Selecione o número com a operação desejada: \\n')\n",
    "print('1 - Soma')\n",
    "print('2 - Subtração')\n",
    "print('3 - Multiplicação')\n",
    "print('4 - Divisão')"
   ]
  },
  {
   "cell_type": "code",
   "execution_count": null,
   "metadata": {},
   "outputs": [],
   "source": [
    "escolha = input('\\nDigite sua opção (1/2/3/4): ')\n",
    "\n",
    "num1 = int(input('\\nDigite o primeiro número: '))\n",
    "num2 = int(input('\\nDigite o segundo número: '))\n",
    "\n",
    "\n",
    "if escolha == '1':\n",
    "\tprint('\\n')\n",
    "\tprint(num1, '+', num2, '=', add(num1, num2))\n",
    "\tprint('\\n')\n",
    "\n",
    "elif escolha == '2':\n",
    "\tprint('\\n')\n",
    "\tprint(num1, '-', num2, '=', subtract(num1, num2))\n",
    "\tprint('\\n')\n",
    "\n",
    "elif escolha == '3':\n",
    "\tprint('\\n')\n",
    "\tprint(num1, '*', num2, '=', multiply(num1, num2))\n",
    "\tprint('\\n')\n",
    "\n",
    "elif escolha == '4':\n",
    "\tprint('\\n')\n",
    "\tprint(num1, '/', num2, '=', divide(num1, num2))\n",
    "\tprint('\\n')\n",
    "\n",
    "else:\n",
    "\tprint('\\n Opção inválida!')"
   ]
  },
  {
   "cell_type": "code",
   "execution_count": null,
   "metadata": {},
   "outputs": [],
   "source": []
  }
 ],
 "metadata": {
  "kernelspec": {
   "display_name": "Python 3",
   "language": "python",
   "name": "python3"
  },
  "language_info": {
   "codemirror_mode": {
    "name": "ipython",
    "version": 3
   },
   "file_extension": ".py",
   "mimetype": "text/x-python",
   "name": "python",
   "nbconvert_exporter": "python",
   "pygments_lexer": "ipython3",
   "version": "3.7.5"
  }
 },
 "nbformat": 4,
 "nbformat_minor": 4
}
